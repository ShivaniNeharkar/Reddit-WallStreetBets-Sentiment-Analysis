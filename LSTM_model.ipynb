{
  "cells": [
    {
      "cell_type": "markdown",
      "metadata": {
        "id": "qa5fhDXGWMpN"
      },
      "source": [
        "### Importing all the necessary libraries"
      ]
    },
    {
      "cell_type": "code",
      "execution_count": 1,
      "metadata": {
        "colab": {
          "base_uri": "https://localhost:8080/"
        },
        "id": "Ovp765cJWMpQ",
        "outputId": "183e1326-7f29-4047-91cc-8a667d9b6da4"
      },
      "outputs": [
        {
          "name": "stderr",
          "output_type": "stream",
          "text": [
            "[nltk_data] Downloading package stopwords to /root/nltk_data...\n",
            "[nltk_data]   Unzipping corpora/stopwords.zip.\n",
            "[nltk_data] Downloading package wordnet to /root/nltk_data...\n",
            "[nltk_data] Downloading package averaged_perceptron_tagger to\n",
            "[nltk_data]     /root/nltk_data...\n",
            "[nltk_data]   Unzipping taggers/averaged_perceptron_tagger.zip.\n"
          ]
        }
      ],
      "source": [
        "import pandas as pd\n",
        "import numpy as np\n",
        "import os\n",
        "\n",
        "import matplotlib\n",
        "import matplotlib.pyplot as plt\n",
        "import matplotlib.patches as mpatches\n",
        "import seaborn as sns\n",
        "import nltk\n",
        "nltk.download('stopwords')\n",
        "nltk.download('wordnet')\n",
        "nltk.download('averaged_perceptron_tagger')\n",
        "from nltk.corpus import stopwords\n",
        "from nltk.util import ngrams\n",
        "\n",
        "from wordcloud import WordCloud\n",
        "\n",
        "from sklearn.feature_extraction.text import CountVectorizer, TfidfVectorizer\n",
        "from sklearn.model_selection import train_test_split\n",
        "from sklearn.decomposition import PCA, TruncatedSVD\n",
        "from sklearn.metrics import classification_report,confusion_matrix\n",
        "\n",
        "from collections import defaultdict\n",
        "from collections import Counter\n",
        "plt.style.use('ggplot')\n",
        "stop=set(stopwords.words('english'))\n",
        "\n",
        "import re\n",
        "from nltk.tokenize import word_tokenize\n",
        "import gensim\n",
        "import string\n",
        "\n",
        "from tqdm import tqdm\n",
        "from keras.preprocessing.text import Tokenizer\n",
        "from keras.preprocessing.sequence import pad_sequences\n",
        "from keras.models import Sequential\n",
        "from keras.layers import Embedding, LSTM,Dense, SpatialDropout1D, Dropout, Bidirectional\n",
        "from keras.initializers import Constant\n",
        "from keras.optimizers import Adam"
      ]
    },
    {
      "cell_type": "markdown",
      "metadata": {
        "id": "PgaomVChWMpR"
      },
      "source": [
        "### Read data"
      ]
    },
    {
      "cell_type": "code",
      "execution_count": 8,
      "metadata": {
        "_cell_guid": "79c7e3d0-c299-4dcb-8224-4455121ee9b0",
        "_uuid": "d629ff2d2480ee46fbb7e2d37f6b5fab8052498a",
        "id": "rcWLtzjEWMpR"
      },
      "outputs": [],
      "source": [
        "df_train = pd.read_excel('train.xlsx')\n",
        "df_test = pd.read_excel('test.xlsx')"
      ]
    },
    {
      "cell_type": "code",
      "execution_count": 9,
      "metadata": {
        "colab": {
          "base_uri": "https://localhost:8080/",
          "height": 538
        },
        "id": "bkQeKDAeWct3",
        "outputId": "d9f7864c-acc5-49e2-c27d-282efbcb1aea"
      },
      "outputs": [
        {
          "data": {
            "text/html": [
              "\n",
              "  <div id=\"df-07f82273-c64a-4d29-b86b-c7b467129930\" class=\"colab-df-container\">\n",
              "    <div>\n",
              "<style scoped>\n",
              "    .dataframe tbody tr th:only-of-type {\n",
              "        vertical-align: middle;\n",
              "    }\n",
              "\n",
              "    .dataframe tbody tr th {\n",
              "        vertical-align: top;\n",
              "    }\n",
              "\n",
              "    .dataframe thead th {\n",
              "        text-align: right;\n",
              "    }\n",
              "</style>\n",
              "<table border=\"1\" class=\"dataframe\">\n",
              "  <thead>\n",
              "    <tr style=\"text-align: right;\">\n",
              "      <th></th>\n",
              "      <th>textID</th>\n",
              "      <th>text</th>\n",
              "      <th>selected_text</th>\n",
              "      <th>sentiment</th>\n",
              "      <th>Time of Tweet</th>\n",
              "      <th>Age of User</th>\n",
              "      <th>Country</th>\n",
              "      <th>Population -2020</th>\n",
              "      <th>Land Area (Km²)</th>\n",
              "      <th>Density (P/Km²)</th>\n",
              "    </tr>\n",
              "  </thead>\n",
              "  <tbody>\n",
              "    <tr>\n",
              "      <th>0</th>\n",
              "      <td>cb774db0d1</td>\n",
              "      <td>I`d have responded, if I were going</td>\n",
              "      <td>I`d have responded, if I were going</td>\n",
              "      <td>neutral</td>\n",
              "      <td>morning</td>\n",
              "      <td>0-20</td>\n",
              "      <td>Afghanistan</td>\n",
              "      <td>38928346</td>\n",
              "      <td>652860</td>\n",
              "      <td>60</td>\n",
              "    </tr>\n",
              "    <tr>\n",
              "      <th>1</th>\n",
              "      <td>549e992a42</td>\n",
              "      <td>Sooo SAD I will miss you here in San Diego!!!</td>\n",
              "      <td>Sooo SAD</td>\n",
              "      <td>negative</td>\n",
              "      <td>noon</td>\n",
              "      <td>21-30</td>\n",
              "      <td>Albania</td>\n",
              "      <td>2877797</td>\n",
              "      <td>27400</td>\n",
              "      <td>105</td>\n",
              "    </tr>\n",
              "    <tr>\n",
              "      <th>2</th>\n",
              "      <td>088c60f138</td>\n",
              "      <td>my boss is bullying me...</td>\n",
              "      <td>bullying me</td>\n",
              "      <td>negative</td>\n",
              "      <td>night</td>\n",
              "      <td>31-45</td>\n",
              "      <td>Algeria</td>\n",
              "      <td>43851044</td>\n",
              "      <td>2381740</td>\n",
              "      <td>18</td>\n",
              "    </tr>\n",
              "    <tr>\n",
              "      <th>3</th>\n",
              "      <td>9642c003ef</td>\n",
              "      <td>what interview! leave me alone</td>\n",
              "      <td>leave me alone</td>\n",
              "      <td>negative</td>\n",
              "      <td>morning</td>\n",
              "      <td>46-60</td>\n",
              "      <td>Andorra</td>\n",
              "      <td>77265</td>\n",
              "      <td>470</td>\n",
              "      <td>164</td>\n",
              "    </tr>\n",
              "    <tr>\n",
              "      <th>4</th>\n",
              "      <td>358bd9e861</td>\n",
              "      <td>Sons of ****, why couldn`t they put them on t...</td>\n",
              "      <td>Sons of ****,</td>\n",
              "      <td>negative</td>\n",
              "      <td>noon</td>\n",
              "      <td>60-70</td>\n",
              "      <td>Angola</td>\n",
              "      <td>32866272</td>\n",
              "      <td>1246700</td>\n",
              "      <td>26</td>\n",
              "    </tr>\n",
              "  </tbody>\n",
              "</table>\n",
              "</div>\n",
              "    <div class=\"colab-df-buttons\">\n",
              "\n",
              "  <div class=\"colab-df-container\">\n",
              "    <button class=\"colab-df-convert\" onclick=\"convertToInteractive('df-07f82273-c64a-4d29-b86b-c7b467129930')\"\n",
              "            title=\"Convert this dataframe to an interactive table.\"\n",
              "            style=\"display:none;\">\n",
              "\n",
              "  <svg xmlns=\"http://www.w3.org/2000/svg\" height=\"24px\" viewBox=\"0 -960 960 960\">\n",
              "    <path d=\"M120-120v-720h720v720H120Zm60-500h600v-160H180v160Zm220 220h160v-160H400v160Zm0 220h160v-160H400v160ZM180-400h160v-160H180v160Zm440 0h160v-160H620v160ZM180-180h160v-160H180v160Zm440 0h160v-160H620v160Z\"/>\n",
              "  </svg>\n",
              "    </button>\n",
              "\n",
              "  <style>\n",
              "    .colab-df-container {\n",
              "      display:flex;\n",
              "      gap: 12px;\n",
              "    }\n",
              "\n",
              "    .colab-df-convert {\n",
              "      background-color: #E8F0FE;\n",
              "      border: none;\n",
              "      border-radius: 50%;\n",
              "      cursor: pointer;\n",
              "      display: none;\n",
              "      fill: #1967D2;\n",
              "      height: 32px;\n",
              "      padding: 0 0 0 0;\n",
              "      width: 32px;\n",
              "    }\n",
              "\n",
              "    .colab-df-convert:hover {\n",
              "      background-color: #E2EBFA;\n",
              "      box-shadow: 0px 1px 2px rgba(60, 64, 67, 0.3), 0px 1px 3px 1px rgba(60, 64, 67, 0.15);\n",
              "      fill: #174EA6;\n",
              "    }\n",
              "\n",
              "    .colab-df-buttons div {\n",
              "      margin-bottom: 4px;\n",
              "    }\n",
              "\n",
              "    [theme=dark] .colab-df-convert {\n",
              "      background-color: #3B4455;\n",
              "      fill: #D2E3FC;\n",
              "    }\n",
              "\n",
              "    [theme=dark] .colab-df-convert:hover {\n",
              "      background-color: #434B5C;\n",
              "      box-shadow: 0px 1px 3px 1px rgba(0, 0, 0, 0.15);\n",
              "      filter: drop-shadow(0px 1px 2px rgba(0, 0, 0, 0.3));\n",
              "      fill: #FFFFFF;\n",
              "    }\n",
              "  </style>\n",
              "\n",
              "    <script>\n",
              "      const buttonEl =\n",
              "        document.querySelector('#df-07f82273-c64a-4d29-b86b-c7b467129930 button.colab-df-convert');\n",
              "      buttonEl.style.display =\n",
              "        google.colab.kernel.accessAllowed ? 'block' : 'none';\n",
              "\n",
              "      async function convertToInteractive(key) {\n",
              "        const element = document.querySelector('#df-07f82273-c64a-4d29-b86b-c7b467129930');\n",
              "        const dataTable =\n",
              "          await google.colab.kernel.invokeFunction('convertToInteractive',\n",
              "                                                    [key], {});\n",
              "        if (!dataTable) return;\n",
              "\n",
              "        const docLinkHtml = 'Like what you see? Visit the ' +\n",
              "          '<a target=\"_blank\" href=https://colab.research.google.com/notebooks/data_table.ipynb>data table notebook</a>'\n",
              "          + ' to learn more about interactive tables.';\n",
              "        element.innerHTML = '';\n",
              "        dataTable['output_type'] = 'display_data';\n",
              "        await google.colab.output.renderOutput(dataTable, element);\n",
              "        const docLink = document.createElement('div');\n",
              "        docLink.innerHTML = docLinkHtml;\n",
              "        element.appendChild(docLink);\n",
              "      }\n",
              "    </script>\n",
              "  </div>\n",
              "\n",
              "\n",
              "<div id=\"df-ea7e9bea-2768-4369-9acf-eeb51b74f5a8\">\n",
              "  <button class=\"colab-df-quickchart\" onclick=\"quickchart('df-ea7e9bea-2768-4369-9acf-eeb51b74f5a8')\"\n",
              "            title=\"Suggest charts\"\n",
              "            style=\"display:none;\">\n",
              "\n",
              "<svg xmlns=\"http://www.w3.org/2000/svg\" height=\"24px\"viewBox=\"0 0 24 24\"\n",
              "     width=\"24px\">\n",
              "    <g>\n",
              "        <path d=\"M19 3H5c-1.1 0-2 .9-2 2v14c0 1.1.9 2 2 2h14c1.1 0 2-.9 2-2V5c0-1.1-.9-2-2-2zM9 17H7v-7h2v7zm4 0h-2V7h2v10zm4 0h-2v-4h2v4z\"/>\n",
              "    </g>\n",
              "</svg>\n",
              "  </button>\n",
              "\n",
              "<style>\n",
              "  .colab-df-quickchart {\n",
              "      --bg-color: #E8F0FE;\n",
              "      --fill-color: #1967D2;\n",
              "      --hover-bg-color: #E2EBFA;\n",
              "      --hover-fill-color: #174EA6;\n",
              "      --disabled-fill-color: #AAA;\n",
              "      --disabled-bg-color: #DDD;\n",
              "  }\n",
              "\n",
              "  [theme=dark] .colab-df-quickchart {\n",
              "      --bg-color: #3B4455;\n",
              "      --fill-color: #D2E3FC;\n",
              "      --hover-bg-color: #434B5C;\n",
              "      --hover-fill-color: #FFFFFF;\n",
              "      --disabled-bg-color: #3B4455;\n",
              "      --disabled-fill-color: #666;\n",
              "  }\n",
              "\n",
              "  .colab-df-quickchart {\n",
              "    background-color: var(--bg-color);\n",
              "    border: none;\n",
              "    border-radius: 50%;\n",
              "    cursor: pointer;\n",
              "    display: none;\n",
              "    fill: var(--fill-color);\n",
              "    height: 32px;\n",
              "    padding: 0;\n",
              "    width: 32px;\n",
              "  }\n",
              "\n",
              "  .colab-df-quickchart:hover {\n",
              "    background-color: var(--hover-bg-color);\n",
              "    box-shadow: 0 1px 2px rgba(60, 64, 67, 0.3), 0 1px 3px 1px rgba(60, 64, 67, 0.15);\n",
              "    fill: var(--button-hover-fill-color);\n",
              "  }\n",
              "\n",
              "  .colab-df-quickchart-complete:disabled,\n",
              "  .colab-df-quickchart-complete:disabled:hover {\n",
              "    background-color: var(--disabled-bg-color);\n",
              "    fill: var(--disabled-fill-color);\n",
              "    box-shadow: none;\n",
              "  }\n",
              "\n",
              "  .colab-df-spinner {\n",
              "    border: 2px solid var(--fill-color);\n",
              "    border-color: transparent;\n",
              "    border-bottom-color: var(--fill-color);\n",
              "    animation:\n",
              "      spin 1s steps(1) infinite;\n",
              "  }\n",
              "\n",
              "  @keyframes spin {\n",
              "    0% {\n",
              "      border-color: transparent;\n",
              "      border-bottom-color: var(--fill-color);\n",
              "      border-left-color: var(--fill-color);\n",
              "    }\n",
              "    20% {\n",
              "      border-color: transparent;\n",
              "      border-left-color: var(--fill-color);\n",
              "      border-top-color: var(--fill-color);\n",
              "    }\n",
              "    30% {\n",
              "      border-color: transparent;\n",
              "      border-left-color: var(--fill-color);\n",
              "      border-top-color: var(--fill-color);\n",
              "      border-right-color: var(--fill-color);\n",
              "    }\n",
              "    40% {\n",
              "      border-color: transparent;\n",
              "      border-right-color: var(--fill-color);\n",
              "      border-top-color: var(--fill-color);\n",
              "    }\n",
              "    60% {\n",
              "      border-color: transparent;\n",
              "      border-right-color: var(--fill-color);\n",
              "    }\n",
              "    80% {\n",
              "      border-color: transparent;\n",
              "      border-right-color: var(--fill-color);\n",
              "      border-bottom-color: var(--fill-color);\n",
              "    }\n",
              "    90% {\n",
              "      border-color: transparent;\n",
              "      border-bottom-color: var(--fill-color);\n",
              "    }\n",
              "  }\n",
              "</style>\n",
              "\n",
              "  <script>\n",
              "    async function quickchart(key) {\n",
              "      const quickchartButtonEl =\n",
              "        document.querySelector('#' + key + ' button');\n",
              "      quickchartButtonEl.disabled = true;  // To prevent multiple clicks.\n",
              "      quickchartButtonEl.classList.add('colab-df-spinner');\n",
              "      try {\n",
              "        const charts = await google.colab.kernel.invokeFunction(\n",
              "            'suggestCharts', [key], {});\n",
              "      } catch (error) {\n",
              "        console.error('Error during call to suggestCharts:', error);\n",
              "      }\n",
              "      quickchartButtonEl.classList.remove('colab-df-spinner');\n",
              "      quickchartButtonEl.classList.add('colab-df-quickchart-complete');\n",
              "    }\n",
              "    (() => {\n",
              "      let quickchartButtonEl =\n",
              "        document.querySelector('#df-ea7e9bea-2768-4369-9acf-eeb51b74f5a8 button');\n",
              "      quickchartButtonEl.style.display =\n",
              "        google.colab.kernel.accessAllowed ? 'block' : 'none';\n",
              "    })();\n",
              "  </script>\n",
              "</div>\n",
              "\n",
              "    </div>\n",
              "  </div>\n"
            ],
            "text/plain": [
              "       textID                                               text  \\\n",
              "0  cb774db0d1                I`d have responded, if I were going   \n",
              "1  549e992a42      Sooo SAD I will miss you here in San Diego!!!   \n",
              "2  088c60f138                          my boss is bullying me...   \n",
              "3  9642c003ef                     what interview! leave me alone   \n",
              "4  358bd9e861   Sons of ****, why couldn`t they put them on t...   \n",
              "\n",
              "                         selected_text sentiment Time of Tweet Age of User  \\\n",
              "0  I`d have responded, if I were going   neutral       morning        0-20   \n",
              "1                             Sooo SAD  negative          noon       21-30   \n",
              "2                          bullying me  negative         night       31-45   \n",
              "3                       leave me alone  negative       morning       46-60   \n",
              "4                        Sons of ****,  negative          noon       60-70   \n",
              "\n",
              "       Country  Population -2020  Land Area (Km²)  Density (P/Km²)  \n",
              "0  Afghanistan          38928346           652860               60  \n",
              "1      Albania           2877797            27400              105  \n",
              "2      Algeria          43851044          2381740               18  \n",
              "3      Andorra             77265              470              164  \n",
              "4       Angola          32866272          1246700               26  "
            ]
          },
          "execution_count": 9,
          "metadata": {},
          "output_type": "execute_result"
        }
      ],
      "source": [
        "df_train.head()"
      ]
    },
    {
      "cell_type": "markdown",
      "metadata": {
        "id": "QIZrtnVlWMpS"
      },
      "source": [
        "### Creating embeddings dictionary by loading GloVe (6B tokens) with 100-D vectors"
      ]
    },
    {
      "cell_type": "code",
      "execution_count": 10,
      "metadata": {
        "id": "5jNpMAIgWMpS"
      },
      "outputs": [],
      "source": [
        "dictionary_embedding={}\n",
        "with open('glove.6B.100d.txt','r', encoding=\"utf8\") as f:\n",
        "    for line in f:\n",
        "        values=line.split()\n",
        "        word=values[0]\n",
        "        vectors=np.asarray(values[1:],'float32')\n",
        "        dictionary_embedding[word]=vectors"
      ]
    },
    {
      "cell_type": "markdown",
      "metadata": {
        "id": "oqJOf-8qWMpS"
      },
      "source": [
        "### Building vocabulary from text"
      ]
    },
    {
      "cell_type": "code",
      "execution_count": 11,
      "metadata": {
        "id": "k_V1KLM4WMpS"
      },
      "outputs": [],
      "source": [
        "def build_vocab(texts):\n",
        "    \"\"\"\n",
        "    :param sntcs: list of list of words\n",
        "    :return: dictionary of words and their count\n",
        "    \"\"\"\n",
        "    sntcs = texts.apply(lambda x: x.split()).values\n",
        "    vocab = {}\n",
        "    for sntc in tqdm(sntcs):\n",
        "        for word in sntc:\n",
        "            try:\n",
        "                vocab[word] += 1\n",
        "            except KeyError:\n",
        "                vocab[word] = 1\n",
        "    return vocab"
      ]
    },
    {
      "cell_type": "markdown",
      "metadata": {
        "id": "-4PsFTmcWMpS"
      },
      "source": [
        "### Examine the extent to which the embeddings cover the vocabulary."
      ]
    },
    {
      "cell_type": "code",
      "execution_count": 12,
      "metadata": {
        "id": "v1RGYfEFWMpT"
      },
      "outputs": [],
      "source": [
        "import operator\n",
        "\n",
        "def check_coverage(vocab,embeddings_index):\n",
        "    p = {}\n",
        "    oov = {}\n",
        "    q = 0\n",
        "    i = 0\n",
        "    for word in tqdm(vocab):\n",
        "        try:\n",
        "            p[word] = embeddings_index[word]\n",
        "            q += vocab[word]\n",
        "        except:\n",
        "\n",
        "            oov[word] = vocab[word]\n",
        "            i += vocab[word]\n",
        "            pass\n",
        "\n",
        "    print('Found embeddings for {:.2%} of vocab'.format(len(p) / len(vocab)))\n",
        "    print('Found embeddings for  {:.2%} of all text'.format(q / (q + i)))\n",
        "    sorted_x = sorted(oov.items(), key=operator.itemgetter(1))[::-1]\n",
        "\n",
        "    return sorted_x"
      ]
    },
    {
      "cell_type": "markdown",
      "metadata": {
        "id": "rMoYpYDPWMpT"
      },
      "source": [
        "### Text preprocessing."
      ]
    },
    {
      "cell_type": "code",
      "execution_count": 13,
      "metadata": {
        "id": "humoLHLDWMpT"
      },
      "outputs": [],
      "source": [
        "df = pd.concat([df_train,df_test])\n",
        "\n",
        "def remove_URL(text):\n",
        "    url = re.compile(r'https?://\\S+|www\\.\\S+')\n",
        "    return url.sub(r'',str(text))\n",
        "\n",
        "def remove_html(text):\n",
        "    html=re.compile(r'<.*?>')\n",
        "    return html.sub(r'',text)\n",
        "\n",
        "def remove_emoji(text):\n",
        "    pattern_of_emoji = re.compile(\"[\"\n",
        "                           u\"\\U0001F600-\\U0001F64F\"\n",
        "                           u\"\\U0001F300-\\U0001F5FF\"\n",
        "                           u\"\\U0001F680-\\U0001F6FF\"\n",
        "                           u\"\\U0001F1E0-\\U0001F1FF\"\n",
        "                           u\"\\U00002702-\\U000027B0\"\n",
        "                           u\"\\U000024C2-\\U0001F251\"\n",
        "                           \"]+\", flags=re.UNICODE)\n",
        "    return pattern_of_emoji.sub(r'', text)\n",
        "\n",
        "def remove_punct(text):\n",
        "    table=str.maketrans('','',string.punctuation)\n",
        "    return text.translate(table)\n",
        "\n",
        "def lower(text):\n",
        "    words = text.split(\" \")\n",
        "    lower = \" \".join([w.lower() for w in words])\n",
        "    return lower\n",
        "\n",
        "df['text']=df['text'].apply(lambda x : remove_URL(x))\n",
        "df['text']=df['text'].apply(lambda x : remove_html(x))\n",
        "df['text']=df['text'].apply(lambda x: remove_emoji(x))\n",
        "df['text']=df['text'].apply(lambda x : remove_punct(x))\n",
        "df['text']=df['text'].apply(lambda x : lower(x))"
      ]
    },
    {
      "cell_type": "markdown",
      "metadata": {
        "id": "TZgeQkQ2ZuYd"
      },
      "source": [
        "### Label Encoding"
      ]
    },
    {
      "cell_type": "code",
      "execution_count": 14,
      "metadata": {
        "id": "w1npiIvjZxci"
      },
      "outputs": [],
      "source": [
        "from sklearn.preprocessing import LabelEncoder\n",
        "\n",
        "# Initialize the LabelEncoder\n",
        "label_encoder = LabelEncoder()\n",
        "\n",
        "# Fit and transform the \"sentiment\" column\n",
        "df_train['sentiment_encoded'] = label_encoder.fit_transform(df_train['sentiment'])\n",
        "df_test['sentiment_encoded'] = label_encoder.fit_transform(df_test['sentiment'])"
      ]
    },
    {
      "cell_type": "markdown",
      "metadata": {
        "id": "oKyV5TqFWMpT"
      },
      "source": [
        "### Converting the data into a format suitable for input to the LSTM network. If a sntc exceeds 32 words, truncate it. Later, creating an embedding matrix."
      ]
    },
    {
      "cell_type": "code",
      "execution_count": 15,
      "metadata": {
        "colab": {
          "base_uri": "https://localhost:8080/"
        },
        "id": "dYAPDgz3WMpU",
        "outputId": "8c74bc7d-999b-4853-a4d3-4ac2490c5bdf"
      },
      "outputs": [
        {
          "name": "stderr",
          "output_type": "stream",
          "text": [
            "100%|██████████| 30103/30103 [00:00<00:00, 406964.47it/s]\n"
          ]
        },
        {
          "data": {
            "text/plain": [
              "(30104, 100)"
            ]
          },
          "execution_count": 15,
          "metadata": {},
          "output_type": "execute_result"
        }
      ],
      "source": [
        "MAX_LEN = 32\n",
        "obj_tokenizer = Tokenizer()\n",
        "obj_tokenizer.fit_on_texts(df['text'].values.tolist())\n",
        "sequences = obj_tokenizer.texts_to_sequences(df['text'].values)\n",
        "text_pad = pad_sequences(sequences,maxlen=MAX_LEN,truncating='post',padding='post')\n",
        "word_index = obj_tokenizer.word_index\n",
        "\n",
        "words_count = len(word_index)+1\n",
        "dim = 100\n",
        "\n",
        "words_unknown = np.random.uniform(-1,1,size=dim).astype('float32')\n",
        "words_unknown = words_unknown.reshape(1,dim)\n",
        "\n",
        "embedding_matrix = np.zeros((words_count, dim))\n",
        "for word, i in tqdm(word_index.items()):\n",
        "    if i > words_count:\n",
        "        continue\n",
        "    emb_vec=dictionary_embedding.get(word)\n",
        "    if emb_vec is not None:\n",
        "        embedding_matrix[i]=emb_vec\n",
        "    else:\n",
        "        embedding_matrix[i]=words_unknown\n",
        "\n",
        "embedding_matrix.shape"
      ]
    },
    {
      "cell_type": "markdown",
      "metadata": {
        "id": "pfCC7QtCWMpU"
      },
      "source": [
        "### Define model - Bidirectional LSTM layer"
      ]
    },
    {
      "cell_type": "code",
      "execution_count": 16,
      "metadata": {
        "colab": {
          "base_uri": "https://localhost:8080/"
        },
        "id": "RKOYFBqpWMpV",
        "outputId": "62f2e281-b891-481a-d9fd-0373be29c2e3"
      },
      "outputs": [
        {
          "name": "stdout",
          "output_type": "stream",
          "text": [
            "Model: \"sequential\"\n",
            "_________________________________________________________________\n",
            " Layer (type)                Output Shape              Param #   \n",
            "=================================================================\n",
            " embedding (Embedding)       (None, 32, 100)           3010400   \n",
            "                                                                 \n",
            " bidirectional (Bidirection  (None, 512)               731136    \n",
            " al)                                                             \n",
            "                                                                 \n",
            " dense (Dense)               (None, 1024)              525312    \n",
            "                                                                 \n",
            " dropout (Dropout)           (None, 1024)              0         \n",
            "                                                                 \n",
            " dense_1 (Dense)             (None, 512)               524800    \n",
            "                                                                 \n",
            " dropout_1 (Dropout)         (None, 512)               0         \n",
            "                                                                 \n",
            " dense_2 (Dense)             (None, 256)               131328    \n",
            "                                                                 \n",
            " dropout_2 (Dropout)         (None, 256)               0         \n",
            "                                                                 \n",
            " dense_3 (Dense)             (None, 128)               32896     \n",
            "                                                                 \n",
            " dropout_3 (Dropout)         (None, 128)               0         \n",
            "                                                                 \n",
            " dense_4 (Dense)             (None, 64)                8256      \n",
            "                                                                 \n",
            " dropout_4 (Dropout)         (None, 64)                0         \n",
            "                                                                 \n",
            " dense_5 (Dense)             (None, 32)                2080      \n",
            "                                                                 \n",
            " dropout_5 (Dropout)         (None, 32)                0         \n",
            "                                                                 \n",
            " dense_6 (Dense)             (None, 16)                528       \n",
            "                                                                 \n",
            " dropout_6 (Dropout)         (None, 16)                0         \n",
            "                                                                 \n",
            " dense_7 (Dense)             (None, 1)                 17        \n",
            "                                                                 \n",
            " dense_8 (Dense)             (None, 3)                 6         \n",
            "                                                                 \n",
            "=================================================================\n",
            "Total params: 4966759 (18.95 MB)\n",
            "Trainable params: 1956359 (7.46 MB)\n",
            "Non-trainable params: 3010400 (11.48 MB)\n",
            "_________________________________________________________________\n",
            "None\n"
          ]
        }
      ],
      "source": [
        "model=Sequential()\n",
        "\n",
        "embedding = Embedding(words_count,dim,embeddings_initializer=Constant(embedding_matrix),\n",
        "                   input_length=MAX_LEN,trainable=False)\n",
        "\n",
        "model.add(embedding)\n",
        "model.add(Bidirectional(LSTM(256, dropout=0.25, recurrent_dropout=0.2)))\n",
        "model.add(Dense(1024, activation='relu'))\n",
        "model.add(Dropout(0.2))\n",
        "model.add(Dense(512, activation='relu'))\n",
        "model.add(Dropout(0.2))\n",
        "model.add(Dense(256, activation='relu'))\n",
        "model.add(Dropout(0.2))\n",
        "model.add(Dense(128, activation='relu'))\n",
        "model.add(Dropout(0.2))\n",
        "model.add(Dense(64, activation='relu'))\n",
        "model.add(Dropout(0.2))\n",
        "model.add(Dense(32, activation='relu'))\n",
        "model.add(Dropout(0.2))\n",
        "model.add(Dense(16, activation='relu'))\n",
        "model.add(Dropout(0.2))\n",
        "model.add(Dense(1, activation='sigmoid'))\n",
        "# model.add(Dense(3, activation='softmax'))\n",
        "\n",
        "model.compile(loss='categorical_crossentropy', optimizer='adam', metrics=['accuracy'])\n",
        "print(model.summary())"
      ]
    },
    {
      "cell_type": "markdown",
      "metadata": {
        "id": "YhwgZOHPWMpV"
      },
      "source": [
        "#### - Specify callback functions for the LSTM model.\n",
        "#### - Use the ModelCheckpoint callback to save the best performing model during training.\n",
        "#### - Using the EarlyStopping callback to stop training early if there is no improvement in the model's performance."
      ]
    },
    {
      "cell_type": "code",
      "execution_count": 17,
      "metadata": {
        "id": "adYnA9rJWMpV"
      },
      "outputs": [],
      "source": [
        "from keras.callbacks import EarlyStopping, ModelCheckpoint, TensorBoard, ReduceLROnPlateau\n",
        "def get_callbacks():\n",
        "    path_chckpt ='checkpoint_keras.h5'\n",
        "    dir_log='logs'\n",
        "    callback_chckpt = ModelCheckpoint(filepath=path_chckpt,\n",
        "                                         monitor='val_accuracy',\n",
        "                                         verbose=1,\n",
        "                                         save_weights_only=False,\n",
        "                                         save_best_only=True,\n",
        "                                         mode='max',\n",
        "                                         period=1)\n",
        "    callbk_early_stopping = EarlyStopping(monitor='val_accuracy',\n",
        "                                           patience=5,\n",
        "                                           verbose=1)\n",
        "    callbacks = [callback_chckpt, callbk_early_stopping]\n",
        "    return callbacks"
      ]
    },
    {
      "cell_type": "markdown",
      "metadata": {
        "id": "LguWmwPiWMpV"
      },
      "source": [
        "### Divide the data into training and validation (testing) sets, with a split ratio of 80:20. Train the model."
      ]
    },
    {
      "cell_type": "code",
      "execution_count": null,
      "metadata": {
        "id": "OUNPi9MNWMpV",
        "outputId": "5c75f423-05e7-4a8b-e882-8a0c0cbeb493",
        "scrolled": false
      },
      "outputs": [
        {
          "name": "stdout",
          "output_type": "stream",
          "text": [
            "Shape of train (18271, 32)\n",
            "Shape of Validation  (4568, 32)\n",
            "WARNING:tensorflow:`period` argument is deprecated. Please use `save_freq` to specify the frequency in number of batches seen.\n",
            "Epoch 1/25\n",
            "286/286 [==============================] - ETA: 0s - loss: 0.5317 - accuracy: 0.7561\n",
            "Epoch 1: val_accuracy improved from -inf to 0.78919, saving model to checkpoint_keras.h5\n",
            "286/286 [==============================] - 97s 317ms/step - loss: 0.5317 - accuracy: 0.7561 - val_loss: 0.4643 - val_accuracy: 0.7892\n",
            "Epoch 2/25\n",
            "286/286 [==============================] - ETA: 0s - loss: 0.4760 - accuracy: 0.7910\n",
            "Epoch 2: val_accuracy improved from 0.78919 to 0.80823, saving model to checkpoint_keras.h5\n",
            "286/286 [==============================] - 88s 307ms/step - loss: 0.4760 - accuracy: 0.7910 - val_loss: 0.4337 - val_accuracy: 0.8082\n",
            "Epoch 3/25\n",
            "286/286 [==============================] - ETA: 0s - loss: 0.4478 - accuracy: 0.8030\n",
            "Epoch 3: val_accuracy improved from 0.80823 to 0.81502, saving model to checkpoint_keras.h5\n",
            "286/286 [==============================] - 90s 317ms/step - loss: 0.4478 - accuracy: 0.8030 - val_loss: 0.4158 - val_accuracy: 0.8150\n",
            "Epoch 4/25\n",
            "286/286 [==============================] - ETA: 0s - loss: 0.4184 - accuracy: 0.8162\n",
            "Epoch 4: val_accuracy did not improve from 0.81502\n",
            "286/286 [==============================] - 83s 291ms/step - loss: 0.4184 - accuracy: 0.8162 - val_loss: 0.4269 - val_accuracy: 0.7833\n",
            "Epoch 5/25\n",
            "286/286 [==============================] - ETA: 0s - loss: 0.3926 - accuracy: 0.8324\n",
            "Epoch 5: val_accuracy improved from 0.81502 to 0.82662, saving model to checkpoint_keras.h5\n",
            "286/286 [==============================] - 85s 297ms/step - loss: 0.3926 - accuracy: 0.8324 - val_loss: 0.3937 - val_accuracy: 0.8266\n",
            "Epoch 6/25\n",
            "286/286 [==============================] - ETA: 0s - loss: 0.3661 - accuracy: 0.8454\n",
            "Epoch 6: val_accuracy improved from 0.82662 to 0.83800, saving model to checkpoint_keras.h5\n",
            "286/286 [==============================] - 84s 294ms/step - loss: 0.3661 - accuracy: 0.8454 - val_loss: 0.3784 - val_accuracy: 0.8380\n",
            "Epoch 7/25\n",
            "286/286 [==============================] - ETA: 0s - loss: 0.3328 - accuracy: 0.8563\n",
            "Epoch 7: val_accuracy improved from 0.83800 to 0.84764, saving model to checkpoint_keras.h5\n",
            "286/286 [==============================] - 86s 302ms/step - loss: 0.3328 - accuracy: 0.8563 - val_loss: 0.3523 - val_accuracy: 0.8476\n",
            "Epoch 8/25\n",
            "286/286 [==============================] - ETA: 0s - loss: 0.2991 - accuracy: 0.8772\n",
            "Epoch 8: val_accuracy did not improve from 0.84764\n",
            "286/286 [==============================] - 81s 284ms/step - loss: 0.2991 - accuracy: 0.8772 - val_loss: 0.4152 - val_accuracy: 0.8196\n",
            "Epoch 9/25\n",
            "286/286 [==============================] - ETA: 0s - loss: 0.2655 - accuracy: 0.8914\n",
            "Epoch 9: val_accuracy improved from 0.84764 to 0.85661, saving model to checkpoint_keras.h5\n",
            "286/286 [==============================] - 85s 297ms/step - loss: 0.2655 - accuracy: 0.8914 - val_loss: 0.4325 - val_accuracy: 0.8566\n",
            "Epoch 10/25\n",
            "286/286 [==============================] - ETA: 0s - loss: 0.2411 - accuracy: 0.9014\n",
            "Epoch 10: val_accuracy did not improve from 0.85661\n",
            "286/286 [==============================] - 81s 285ms/step - loss: 0.2411 - accuracy: 0.9014 - val_loss: 0.3835 - val_accuracy: 0.8487\n",
            "Epoch 11/25\n",
            "286/286 [==============================] - ETA: 0s - loss: 0.2108 - accuracy: 0.9181\n",
            "Epoch 11: val_accuracy improved from 0.85661 to 0.85946, saving model to checkpoint_keras.h5\n",
            "286/286 [==============================] - 85s 299ms/step - loss: 0.2108 - accuracy: 0.9181 - val_loss: 0.3454 - val_accuracy: 0.8595\n",
            "Epoch 12/25\n",
            "286/286 [==============================] - ETA: 0s - loss: 0.1835 - accuracy: 0.9277\n",
            "Epoch 12: val_accuracy improved from 0.85946 to 0.87062, saving model to checkpoint_keras.h5\n",
            "286/286 [==============================] - 87s 303ms/step - loss: 0.1835 - accuracy: 0.9277 - val_loss: 0.3775 - val_accuracy: 0.8706\n",
            "Epoch 13/25\n",
            "286/286 [==============================] - ETA: 0s - loss: 0.1597 - accuracy: 0.9389\n",
            "Epoch 13: val_accuracy did not improve from 0.87062\n",
            "286/286 [==============================] - 89s 313ms/step - loss: 0.1597 - accuracy: 0.9389 - val_loss: 0.3596 - val_accuracy: 0.8647\n",
            "Epoch 14/25\n",
            "286/286 [==============================] - ETA: 0s - loss: 0.1473 - accuracy: 0.9421\n",
            "Epoch 14: val_accuracy improved from 0.87062 to 0.88157, saving model to checkpoint_keras.h5\n",
            "286/286 [==============================] - 95s 331ms/step - loss: 0.1473 - accuracy: 0.9421 - val_loss: 0.3631 - val_accuracy: 0.8816\n",
            "Epoch 15/25\n",
            "286/286 [==============================] - ETA: 0s - loss: 0.1381 - accuracy: 0.9473\n",
            "Epoch 15: val_accuracy did not improve from 0.88157\n",
            "286/286 [==============================] - 89s 312ms/step - loss: 0.1381 - accuracy: 0.9473 - val_loss: 0.4180 - val_accuracy: 0.8682\n",
            "Epoch 16/25\n",
            "286/286 [==============================] - ETA: 0s - loss: 0.1215 - accuracy: 0.9557\n",
            "Epoch 16: val_accuracy did not improve from 0.88157\n",
            "286/286 [==============================] - 89s 311ms/step - loss: 0.1215 - accuracy: 0.9557 - val_loss: 0.4325 - val_accuracy: 0.8700\n",
            "Epoch 17/25\n",
            "286/286 [==============================] - ETA: 0s - loss: 0.1192 - accuracy: 0.9563\n",
            "Epoch 17: val_accuracy improved from 0.88157 to 0.88507, saving model to checkpoint_keras.h5\n",
            "286/286 [==============================] - 94s 328ms/step - loss: 0.1192 - accuracy: 0.9563 - val_loss: 0.3572 - val_accuracy: 0.8851\n",
            "Epoch 18/25\n",
            "286/286 [==============================] - ETA: 0s - loss: 0.1046 - accuracy: 0.9621\n",
            "Epoch 18: val_accuracy did not improve from 0.88507\n",
            "286/286 [==============================] - 90s 313ms/step - loss: 0.1046 - accuracy: 0.9621 - val_loss: 0.4244 - val_accuracy: 0.8838\n",
            "Epoch 19/25\n",
            "286/286 [==============================] - ETA: 0s - loss: 0.0978 - accuracy: 0.9645\n",
            "Epoch 19: val_accuracy improved from 0.88507 to 0.88660, saving model to checkpoint_keras.h5\n",
            "286/286 [==============================] - 92s 320ms/step - loss: 0.0978 - accuracy: 0.9645 - val_loss: 0.4123 - val_accuracy: 0.8866\n",
            "Epoch 20/25\n",
            "286/286 [==============================] - ETA: 0s - loss: 0.0912 - accuracy: 0.9672\n",
            "Epoch 20: val_accuracy improved from 0.88660 to 0.89164, saving model to checkpoint_keras.h5\n",
            "286/286 [==============================] - 93s 325ms/step - loss: 0.0912 - accuracy: 0.9672 - val_loss: 0.3842 - val_accuracy: 0.8916\n",
            "Epoch 21/25\n",
            "286/286 [==============================] - ETA: 0s - loss: 0.0886 - accuracy: 0.9660\n",
            "Epoch 21: val_accuracy improved from 0.89164 to 0.89470, saving model to checkpoint_keras.h5\n",
            "286/286 [==============================] - 97s 341ms/step - loss: 0.0886 - accuracy: 0.9660 - val_loss: 0.5060 - val_accuracy: 0.8947\n",
            "Epoch 22/25\n",
            "286/286 [==============================] - ETA: 0s - loss: 0.0832 - accuracy: 0.9695\n",
            "Epoch 22: val_accuracy did not improve from 0.89470\n",
            "286/286 [==============================] - 88s 308ms/step - loss: 0.0832 - accuracy: 0.9695 - val_loss: 0.4168 - val_accuracy: 0.8894\n",
            "Epoch 23/25\n",
            "286/286 [==============================] - ETA: 0s - loss: 0.0812 - accuracy: 0.9700\n",
            "Epoch 23: val_accuracy did not improve from 0.89470\n",
            "286/286 [==============================] - 90s 314ms/step - loss: 0.0812 - accuracy: 0.9700 - val_loss: 0.3600 - val_accuracy: 0.8938\n",
            "Epoch 24/25\n",
            "286/286 [==============================] - ETA: 0s - loss: 0.0822 - accuracy: 0.9710\n",
            "Epoch 24: val_accuracy did not improve from 0.89470\n",
            "286/286 [==============================] - 84s 295ms/step - loss: 0.0822 - accuracy: 0.9710 - val_loss: 0.4601 - val_accuracy: 0.8927\n",
            "Epoch 25/25\n",
            "286/286 [==============================] - ETA: 0s - loss: 0.0705 - accuracy: 0.9734\n",
            "Epoch 25: val_accuracy did not improve from 0.89470\n",
            "286/286 [==============================] - 91s 316ms/step - loss: 0.0705 - accuracy: 0.9734 - val_loss: 0.5448 - val_accuracy: 0.8892\n"
          ]
        }
      ],
      "source": [
        "train = text_pad[:df_train.shape[0]]\n",
        "test = text_pad[df_train.shape[0]:]\n",
        "\n",
        "X_train,X_test,y_train,y_test=train_test_split(train,df_train['sentiment_encoded'].values,test_size=0.2,random_state=40)\n",
        "print('Shape of train',X_train.shape)\n",
        "print(\"Shape of Validation \",X_test.shape)\n",
        "\n",
        "history=model.fit(X_train,y_train,\n",
        "                  batch_size=64,\n",
        "                  epochs=25,\n",
        "                  validation_data=(X_test,y_test),\n",
        "                  verbose=1,\n",
        "                  callbacks = get_callbacks())"
      ]
    },
    {
      "cell_type": "markdown",
      "metadata": {
        "id": "kniJf75iWMpW"
      },
      "source": [
        "### Display the evaluation metrics for the validation data."
      ]
    },
    {
      "cell_type": "code",
      "execution_count": null,
      "metadata": {
        "id": "YVOq-dkXWMpW",
        "outputId": "7fc27e3b-ae1e-4d5c-bac2-125ef515823d"
      },
      "outputs": [
        {
          "name": "stdout",
          "output_type": "stream",
          "text": [
            "143/143 [==============================] - 8s 50ms/step\n",
            "0.8892294220665499\n",
            "[[2359  255]\n",
            " [ 251 1703]]\n",
            "              precision    recall  f1-score   support\n",
            "\n",
            "           0       0.90      0.90      0.90      2614\n",
            "           1       0.87      0.87      0.87      1954\n",
            "\n",
            "    accuracy                           0.89      4568\n",
            "   macro avg       0.89      0.89      0.89      4568\n",
            "weighted avg       0.89      0.89      0.89      4568\n",
            "\n"
          ]
        }
      ],
      "source": [
        "from sklearn import metrics\n",
        "\n",
        "pred_y = model.predict(X_test)\n",
        "pred_y = pred_y.round().astype('int')\n",
        "\n",
        "print(metrics.accuracy_score(y_test,pred_y))\n",
        "print(metrics.confusion_matrix(y_test,pred_y))\n",
        "print(metrics.classification_report(y_test,pred_y))"
      ]
    },
    {
      "cell_type": "markdown",
      "metadata": {
        "id": "9aH3HPQKWMpW"
      },
      "source": [
        "### Using the trained model to analyze the sentiment of the test data."
      ]
    },
    {
      "cell_type": "code",
      "execution_count": 20,
      "metadata": {
        "id": "cqqYSmIoWMpW"
      },
      "outputs": [],
      "source": [
        "test_pred = model.predict(test)\n",
        "test_pred_int = test_pred.round().astype('int')\n",
        "df_test['pred'] = test_pred_int"
      ]
    },
    {
      "cell_type": "code",
      "execution_count": null,
      "metadata": {
        "id": "svhCsZe_WMpW"
      },
      "outputs": [],
      "source": [
        "df_test.to_csv('/content/output.csv', index=False)"
      ]
    }
  ],
  "metadata": {
    "colab": {
      "provenance": []
    },
    "kernelspec": {
      "display_name": "Python 3 (ipykernel)",
      "language": "python",
      "name": "python3"
    },
    "language_info": {
      "codemirror_mode": {
        "name": "ipython",
        "version": 3
      },
      "file_extension": ".py",
      "mimetype": "text/x-python",
      "name": "python",
      "nbconvert_exporter": "python",
      "pygments_lexer": "ipython3",
      "version": "3.11.5"
    }
  },
  "nbformat": 4,
  "nbformat_minor": 0
}
